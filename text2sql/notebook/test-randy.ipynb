{
 "cells": [
  {
   "cell_type": "code",
   "execution_count": 3,
   "metadata": {},
   "outputs": [],
   "source": [
    "import json\n",
    "import requests\n",
    "\n",
    "# url = \"http://localhost:8080\"\n",
    "url = \"https://watsonx-uem-sunrise.1cyo510kcxn1.us-south.codeengine.appdomain.cloud\""
   ]
  },
  {
   "cell_type": "code",
   "execution_count": 4,
   "metadata": {},
   "outputs": [],
   "source": [
    "r = requests.get(f\"{url}/openapi\")\n",
    "with open(\"../openapi.json\", \"w\") as f:\n",
    "    json.dump(r.json(), f)"
   ]
  },
  {
   "cell_type": "code",
   "execution_count": 2,
   "metadata": {},
   "outputs": [
    {
     "data": {
      "text/plain": [
       "'{\"hello\":\"world\"}'"
      ]
     },
     "execution_count": 2,
     "metadata": {},
     "output_type": "execute_result"
    }
   ],
   "source": [
    "r = requests.get(f\"{url}/api/hello\")\n",
    "r.text"
   ]
  },
  {
   "cell_type": "code",
   "execution_count": 5,
   "metadata": {},
   "outputs": [
    {
     "data": {
      "text/plain": [
       "'[{\"name\":\"connaught\",\"data\":[{\"Property_Name\":\"A-09-01\",\"Layout\":\"TYPE A\",\"Status\":\"Signed\",\"Block\":\"BLOCK A\",\"Price\":343888,\"id\":0},{\"Property_Name\":\"A-09-02\",\"Layout\":\"TYPE C\",\"Status\":\"Signed\",\"Block\":\"BLOCK A\",\"Price\":335888,\"id\":1},{\"Property_Name\":\"A-09-03\",\"Layout\":\"TYPE D\",\"Status\":\"Signed\",\"Block\":\"BLOCK A\",\"Price\":338888,\"id\":2},{\"Property_Name\":\"A-09-03A\",\"Layout\":\"TYPE D\",\"Status\":\"Signed\",\"Block\":\"BLOCK A\",\"Price\":338888,\"id\":3},{\"Property_Name\":\"A-09-05\",\"Layout\":\"TYPE A1\",\"Status\":\"Signed\",\"Block\":\"BLOCK A\",\"Price\":335888,\"id\":4}]},{\"name\":\"minh\",\"data\":[{\"Property_Name\":\"A-01-01\",\"Layout\":\"TYPE C\",\"Status\":\"Available\",\"Block\":\"BLOCK A\",\"Price\":2452800,\"id\":0},{\"Property_Name\":\"A-01-02\",\"Layout\":\"TYPE D\",\"Status\":\"Available\",\"Block\":\"BLOCK A\",\"Price\":2670800,\"id\":1},{\"Property_Name\":\"A-01-03\",\"Layout\":\"TYPE B\",\"Status\":\"Available\",\"Block\":\"BLOCK A\",\"Price\":1854800,\"id\":2},{\"Property_Name\":\"A-01-05\",\"Layout\":\"TYPE A1\",\"Status\":\"Available\",\"Block\":\"BLOCK A\",\"Price\":1447800,\"id\":3},{\"Property_Name\":\"A-01-06\",\"Layout\":\"TYPE B1\",\"Status\":\"Available\",\"Block\":\"BLOCK A\",\"Price\":1828800,\"id\":4}]},{\"name\":\"zig\",\"data\":[{\"Property_Name\":\"A-10-1\",\"Layout\":\"TYPE C\",\"Status\":\"Hold\",\"Block\":\"BLOCK A\",\"Price\":781888.0,\"id\":0},{\"Property_Name\":\"A-10-2\",\"Layout\":\"TYPE D\",\"Status\":\"Hold\",\"Block\":\"BLOCK A\",\"Price\":773888.0,\"id\":1},{\"Property_Name\":\"A-10-3\",\"Layout\":\"TYPE B\",\"Status\":\"Available\",\"Block\":\"BLOCK A\",\"Price\":781888.0,\"id\":2},{\"Property_Name\":\"A-10-3A\",\"Layout\":\"TYPE A1\",\"Status\":\"Available\",\"Block\":\"BLOCK A\",\"Price\":611888.0,\"id\":3},{\"Property_Name\":\"A-10-5\",\"Layout\":\"TYPE B1\",\"Status\":\"Available\",\"Block\":\"BLOCK A\",\"Price\":605888.0,\"id\":4}]}]'"
      ]
     },
     "execution_count": 5,
     "metadata": {},
     "output_type": "execute_result"
    }
   ],
   "source": [
    "# r = requests.get(f\"{url}/api/database\")\n",
    "# r.text"
   ]
  },
  {
   "cell_type": "code",
   "execution_count": 3,
   "metadata": {},
   "outputs": [
    {
     "name": "stdout",
     "output_type": "stream",
     "text": [
      "Q: Is there any phone number to call to book an appointment ?\n",
      "A: general_query\n",
      "CR: {}\n",
      "\n"
     ]
    }
   ],
   "source": [
    "# property_specific_transactional_query\n",
    "questions_action_1 = [\n",
    "    # \"How many units are available for the-connaught?\",\n",
    "    \"for zig, How many units are available?\",\n",
    "]\n",
    "\n",
    "# general_transactional_query\n",
    "questions_action_2 = [\n",
    "    # \"show me properties that have a price range from RM300,000 to RM600,000?\",\n",
    "    # \"show me properties that cost less than 400k\"\n",
    "]\n",
    "\n",
    "# property_specific_general_query\n",
    "questions_action_3 = [\n",
    "    # \"what are the layout types for the connaught?\",\n",
    "    # \"what are the ammenities near the connaught?\",\n",
    "    # \"I'm interested in the MINH.\",\n",
    "    \"does connaught has a swimming pool?\"\n",
    "]\n",
    "\n",
    "# general_query\n",
    "questions_action_4 = [\n",
    "    \n",
    "]\n",
    "\n",
    "questions = [\n",
    "    \"Is there any phone number to call to book an appointment ?\",\n",
    "] # questions_action_1 + questions_action_2 + questions_action_3 + questions_action_4\n",
    "\n",
    "messages = []\n",
    "for q in questions:\n",
    "    messages.append({\"u\": q})\n",
    "    r = requests.post(f\"{url}/api/generate\", json={\"history\": messages, \"k_docs\": 3})\n",
    "    generated_text, custom_response = r.json().values()\n",
    "    print(f\"Q: {q}\")\n",
    "    print(f\"A: {generated_text}\")\n",
    "    print(f\"CR: {custom_response}\")\n",
    "    print()"
   ]
  },
  {
   "cell_type": "code",
   "execution_count": null,
   "metadata": {},
   "outputs": [],
   "source": []
  }
 ],
 "metadata": {
  "kernelspec": {
   "display_name": "Python 3",
   "language": "python",
   "name": "python3"
  },
  "language_info": {
   "codemirror_mode": {
    "name": "ipython",
    "version": 3
   },
   "file_extension": ".py",
   "mimetype": "text/x-python",
   "name": "python",
   "nbconvert_exporter": "python",
   "pygments_lexer": "ipython3",
   "version": "3.11.7"
  }
 },
 "nbformat": 4,
 "nbformat_minor": 2
}
