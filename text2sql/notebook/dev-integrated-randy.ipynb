{
 "cells": [
  {
   "cell_type": "code",
   "execution_count": 2,
   "metadata": {},
   "outputs": [],
   "source": [
    "import importlib\n",
    "import os\n",
    "import pathlib\n",
    "import shutil\n",
    "import re\n",
    "import action\n",
    "import prompt\n",
    "import numpy as np\n",
    "import pandas as pd\n",
    "from dotenv import load_dotenv\n",
    "from ibm_watson_machine_learning.foundation_models import Model\n",
    "from ibm_watson_machine_learning.foundation_models.extensions.langchain import (\n",
    "    WatsonxLLM,\n",
    ")\n",
    "from ibm_watson_machine_learning.foundation_models.utils.enums import ModelTypes\n",
    "from ibm_watson_machine_learning.metanames import GenTextParamsMetaNames as GenParams\n",
    "from langchain.docstore.document import Document\n",
    "from langchain.text_splitter import RecursiveCharacterTextSplitter\n",
    "from langchain.vectorstores import FAISS\n",
    "from sqlalchemy import create_engine, text\n",
    "from sqlalchemy.orm import sessionmaker\n",
    "from hf_hub import HuggingFaceHubEmbeddings\n",
    "\n",
    "load_dotenv()\n",
    "\n",
    "\n",
    "MODELS = [\n",
    "    ModelTypes.FLAN_T5_XXL,\n",
    "    ModelTypes.LLAMA_2_70B_CHAT,\n",
    "    "meta-llama/llama-3-70b-instruct",\n",
    "]\n",
    "\n",
    "MODELS = {\n",
    "    x: WatsonxLLM(\n",
    "        model=Model(\n",
    "            model_id=x,\n",
    "            credentials={\n",
    "                \"apikey\": os.getenv(\"IBM_API_KEY\"),\n",
    "                \"url\": \"https://us-south.ml.cloud.ibm.com\",\n",
    "            },\n",
    "            params={\n",
    "                GenParams.DECODING_METHOD: \"greedy\",\n",
    "                GenParams.MAX_NEW_TOKENS: 300,\n",
    "                GenParams.TEMPERATURE: 0,\n",
    "                GenParams.RANDOM_SEED: 12345,\n",
    "                GenParams.STOP_SEQUENCES: [\"\\n\\n\"],\n",
    "            },\n",
    "            project_id=\"0353fa90-88c0-44d2-b6e7-ab143db3f01d\",\n",
    "        )\n",
    "    )\n",
    "    for x in MODELS\n",
    "}\n",
    "\n",
    "# print(MODELS[ModelTypes.FLAN_T5_XXL](\"hello how are you?\"))"
   ]
  },
  {
   "cell_type": "code",
   "execution_count": 2,
   "metadata": {},
   "outputs": [],
   "source": [
    "embeddings = HuggingFaceHubEmbeddings(\n",
    "    model=\"sentence-transformers/all-mpnet-base-v2\",\n",
    "    task=\"feature-extraction\",\n",
    "    huggingfacehub_api_token=os.getenv(\"HF_TOKEN\"),\n",
    ")\n",
    "text_splitter = RecursiveCharacterTextSplitter(chunk_size=2000, chunk_overlap=100)\n",
    "text_files = [\n",
    "    \"data/qa/the-connaught-one.txt\",\n",
    "    \"data/qa/the-minh.txt\",\n",
    "    \"data/qa/residensi-zig.txt\",\n",
    "]\n",
    "docs = [\n",
    "    Document(\n",
    "        page_content=open(x, encoding=\"utf-8\").read(),\n",
    "        metadata={\"filename\": pathlib.Path(x).stem},\n",
    "    )\n",
    "    for x in text_files\n",
    "]\n",
    "docs = text_splitter.split_documents(docs)\n",
    "vdb = FAISS.from_documents(docs, embeddings)\n",
    "vdb.save_local(\"../backend/vdb\")\n",
    "vdb = FAISS.load_local(\"../backend/vdb\", embeddings)"
   ]
  },
  {
   "cell_type": "code",
   "execution_count": 3,
   "metadata": {},
   "outputs": [],
   "source": [
    "engine = create_engine(\"sqlite:///database.db\", echo=False)\n",
    "data = pd.read_excel(\"../backend/data/sql/zig-minh-connaught-sample.xlsx\", sheet_name=None)\n",
    "for k, v in data.items():\n",
    "    v.columns = [x.replace(\" \", \"_\") for x in v.columns]\n",
    "    table = k.split(\" \")[0]\n",
    "    v.to_sql(table, con=engine, index=False, if_exists=\"replace\")\n",
    "SessionLocal = sessionmaker(autocommit=False, autoflush=False, bind=engine)\n",
    "\n",
    "db = SessionLocal()\n",
    "with db.connection().engine.connect() as conn:\n",
    "    connaught = pd.read_sql(text(\"SELECT * from connaught\"), conn)\n",
    "    minh = pd.read_sql(text(\"SELECT * from minh\"), conn)\n",
    "    zig = pd.read_sql(text(\"SELECT * from zig\"), conn)\n",
    "# connaught.head()\n",
    "# minh.head()\n",
    "# zig.head()"
   ]
  },
  {
   "cell_type": "code",
   "execution_count": 3,
   "metadata": {},
   "outputs": [],
   "source": [
    "importlib.reload(prompt)\n",
    "from prompt import ROUTING_TEMPLATE, build_prompt, SQL_TEMPLATE, QUESTION_TEMPLATE, DIRECT_ANSWER_TEMPLATE, SQL_SYSTEM_PROMPT, PROPERTY_TEMPLATE, DEFAULT_SYSTEM_PROMPT\n",
    "\n",
    "importlib.reload(action)\n",
    "from action import ACTIONS, ActionParams\n",
    "\n",
    "for x in [\"prompt.py\", \"action.py\", \"hf_hub.py\"]:\n",
    "    shutil.copy(f\"{x}\", f\"../backend/app/{x}\")\n",
    "\n",
    "with open(\"../backend/app/action.py\", \"r+\") as f:\n",
    "    content = f.read().replace(\"from prompt\", \"from .prompt\")\n",
    "    f.seek(0)\n",
    "    f.write(content)\n",
    "    f.truncate()"
   ]
  },
  {
   "cell_type": "code",
   "execution_count": 12,
   "metadata": {},
   "outputs": [],
   "source": [
    "\n",
    "\n",
    "# list(map(lambda x: x.replace(\"- \", \"\"), filter(lambda x: x, images.split(\"\\n\"))))"
   ]
  },
  {
   "cell_type": "code",
   "execution_count": 16,
   "metadata": {},
   "outputs": [
    {
     "name": "stdout",
     "output_type": "stream",
     "text": [
      "----------------------------------------------------------------------------------------------------\n",
      "Property: the-minh\n",
      "Question: does minh has a swimming pool? - [Action: 3]\n",
      "Answer: Yes, The MINH has a swimming pool.\n",
      "Custom Response: {'images': ['the-minh/pool-lounge.jpg']}\n",
      "----------------------------------------------------------------------------------------------------\n"
     ]
    }
   ],
   "source": [
    "params: ActionParams = {\n",
    "    \"models\": MODELS,\n",
    "    \"db\": db,\n",
    "    \"vdb\": vdb,\n",
    "    \"property\": None,\n",
    "}\n",
    "\n",
    "# property_specific_transactional_query\n",
    "questions_action_1 = [\n",
    "    \"for zig, How many units are available?\",\n",
    "    \"the-connaught got how many available units?\",\n",
    "    \"how many units have Price under 900,000 for zig\",\n",
    "    \"how many units cost less than 400,000 at connaught\",\n",
    "    \"Now got how many available layout 'E1' units at zig\",\n",
    "    \"which layout types at zig have available units that are cheaper than 400k?\",\n",
    "    \"what are the types of blocks at connaught\",\n",
    "    \"how many available units are at Block A at minh?\",\n",
    "    \"what is the average price of units at zig?\",\n",
    "    \"what is the range of prices of units at connaught?\",\n",
    "    \"how many properties cost between 200,000 and 400,000 at minh?\",\n",
    "]\n",
    "\n",
    "# general_transactional_query\n",
    "questions_action_2 = [\n",
    "    \"how many units cost less than 500k\",\n",
    "    \"give me price of all properties which have price lower than 700k and are currently available?\",\n",
    "    # \"how much is the cheapest unit?\",\n",
    "    # \"what is the most expensive unit?\",\n",
    "    # \"what is the minimum price for buying unit?\",\n",
    "    # \"how many units are available?\",\n",
    "    # \"how many units cost between 500k and 700k?\",\n",
    "    # \"how many units are not available?\",\n",
    "    # \"how many units cost more than 1mil\",\n",
    "    # \"what is the average prices of the properties?\",\n",
    "]\n",
    "\n",
    "# property_specific_general_query\n",
    "questions_action_3 = [\n",
    "    \"what are the layout types for the connaught?\",\n",
    "    \"what are the ammenities near the connaught?\",\n",
    "    \"I'm interested in the MINH.\",\n",
    "    \"What is the expected completion date? \" \"does connaught has a swimming pool?\",\n",
    "    \"Which units in Connaught One have at least 2 car park ?\",\n",
    "    \"What's the Tenure type? \",\n",
    "    \"How far from Eko Cheras Mall?\",\n",
    "    \"How far is the nearest MRT Station?\",\n",
    "    \"Would I get EV charging station there?\",\n",
    "    \"What is the neighbourhood like?\",\n",
    "    \"What is the price per square feet?\",\n",
    "    \"What are the nearest hospitals around ?\",\n",
    "    \"How many units per floor?\",\n",
    "    \"Does it have Private Lift?\",\n",
    "    \"What is CLUB Edition? \",\n",
    "    \"How accessible is the property?\",\n",
    "    \"Where it's located ? \",\n",
    "    \"What is the Land area?\",\n",
    "    \"How much are the estimated maintenance fees?\",\n",
    "    \"How far from Batu Caves?\",\n",
    "    \"Is the property under a residential or commercial title?\",\n",
    "    \"What facilities are provided?\",\n",
    "    \"Is the property part of a masterplan?\",\n",
    "    \"does minh has a play area?\",\n",
    "    \"does connaught has swimming pool?\",\n",
    "]\n",
    "\n",
    "# general_query\n",
    "questions_action_4 = [\n",
    "    \"Is there any phone number to call to book an appointment ? \",\n",
    "    \"What is Bumi discount ? \",\n",
    "    \"What is HDA regulations act? \",\n",
    "]\n",
    "\n",
    "\n",
    "questions = [\"does minh has a swimming pool?\"]  # questions_action_1 + questions_action_2 + questions_action_3 + questions_action_4\n",
    "\n",
    "routes = []\n",
    "wa_property = (\n",
    "    None # valid values: the-connaught-one, the-minh, residensi-zig\n",
    ")\n",
    "for question in questions:\n",
    "    prompt_ = build_prompt(\n",
    "        ROUTING_TEMPLATE.replace(\"{{question}}\", question), DEFAULT_SYSTEM_PROMPT\n",
    "    )\n",
    "    action_output = int(MODELS[ModelTypes.FLAN_T5_XXL](prompt_).strip())\n",
    "    if action_output in [1, 3]:\n",
    "        property = None\n",
    "        property_name = MODELS[ModelTypes.FLAN_T5_XXL](\n",
    "            PROPERTY_TEMPLATE.replace(\"{{question}}\", question)\n",
    "        ).strip()\n",
    "        if wa_property is not None:\n",
    "            property = wa_property\n",
    "        if property_name != \"NONE\":\n",
    "            property = property_name\n",
    "        params.update(\n",
    "            {\n",
    "                \"question\": question,\n",
    "                \"property\": property,\n",
    "            }\n",
    "        )\n",
    "    else:\n",
    "        params.update({\"question\": question, \"property\": None})\n",
    "\n",
    "    routes.append(action_output)\n",
    "\n",
    "    print(\"-\" * 100)\n",
    "    generated_text, custom_response = ACTIONS[action_output](params).values()\n",
    "    print(f\"Question: {question} - [Action: {action_output}]\")\n",
    "    print(f\"Answer: {generated_text}\")\n",
    "    print(f\"Custom Response: {custom_response}\")\n",
    "    print(\"-\" * 100)"
   ]
  },
  {
   "cell_type": "code",
   "execution_count": 22,
   "metadata": {},
   "outputs": [
    {
     "data": {
      "text/plain": [
       "['the-connaught-one/pool-lounge.jpg',\n",
       " 'the-connaught-one/gym.jpg',\n",
       " 'the-connaught-one/play-area.jpg',\n",
       " 'the-connaught-one/aerial-night.jpg',\n",
       " 'the-connaught-one/drop-off.jpg',\n",
       " 'the-connaught-one/lobby.jpg',\n",
       " 'the-connaught-one/mid-balcony.jpg',\n",
       " 'the-connaught-one/mrt-night.jpg',\n",
       " 'the-connaught-one/parcel-room.jpg',\n",
       " 'the-connaught-one/pool-top.jpg',\n",
       " 'the-connaught-one/retail-cafe.jpg',\n",
       " 'the-minh/drop-off.jpg',\n",
       " 'the-minh/garden.jpg',\n",
       " 'the-minh/gym.jpg',\n",
       " 'the-minh/play-area-indoor.jpg',\n",
       " 'the-minh/play-area-outdoor.jpg',\n",
       " 'residensi-zig/gamers-room.jpg',\n",
       " 'residensi-zig/gym.jpg',\n",
       " 'residensi-zig/parcel-lounge.jpg',\n",
       " 'residensi-zig/play-area.jpg',\n",
       " 'residensi-zig/pool-1.jpg',\n",
       " 'residensi-zig/pool-2.jpg']"
      ]
     },
     "execution_count": 22,
     "metadata": {},
     "output_type": "execute_result"
    }
   ],
   "source": [
    "images"
   ]
  },
  {
   "cell_type": "code",
   "execution_count": 21,
   "metadata": {},
   "outputs": [
    {
     "data": {
      "text/plain": [
       "[]"
      ]
     },
     "execution_count": 21,
     "metadata": {},
     "output_type": "execute_result"
    }
   ],
   "source": []
  },
  {
   "cell_type": "code",
   "execution_count": 24,
   "metadata": {},
   "outputs": [
    {
     "data": {
      "text/plain": [
       "['the-minh/pool-lounge.jpg']"
      ]
     },
     "execution_count": 24,
     "metadata": {},
     "output_type": "execute_result"
    }
   ],
   "source": [
    "custom_response[\"images\"]"
   ]
  },
  {
   "cell_type": "code",
   "execution_count": 7,
   "metadata": {},
   "outputs": [],
   "source": [
    "# df = pd.concat([\n",
    "#     pd.DataFrame({\"question\": questions_action_1, \"route\": 1}),\n",
    "#     pd.DataFrame({\"question\": questions_action_2, \"route\": 2}),\n",
    "# ])\n",
    "# df[\"generated_route\"] = routes\n",
    "# print(\"Accuracy: {:.2f}\".format((df[\"route\"] == df[\"generated_route\"]).sum() / df.shape[0]))\n",
    "# df\n",
    "# df.groupby(\"route\").apply(lambda x: (x[\"route\"] == x[\"generated_route\"]).sum() / x.shape[0])"
   ]
  }
 ],
 "metadata": {
  "kernelspec": {
   "display_name": "Python 3 (ipykernel)",
   "language": "python",
   "name": "python3"
  },
  "language_info": {
   "codemirror_mode": {
    "name": "ipython",
    "version": 3
   },
   "file_extension": ".py",
   "mimetype": "text/x-python",
   "name": "python",
   "nbconvert_exporter": "python",
   "pygments_lexer": "ipython3",
   "version": "3.11.5"
  }
 },
 "nbformat": 4,
 "nbformat_minor": 4
}
