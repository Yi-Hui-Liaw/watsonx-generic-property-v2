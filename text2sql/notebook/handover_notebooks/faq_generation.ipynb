{
 "cells": [
  {
   "cell_type": "code",
   "execution_count": 1,
   "metadata": {},
   "outputs": [],
   "source": [
    "#define the llm models\n",
    "import sys\n",
    "sys.path.append(\"../\")\n",
    "import importlib\n",
    "import os\n",
    "import pathlib\n",
    "import shutil\n",
    "import re\n",
    "import action\n",
    "import prompt\n",
    "import numpy as np\n",
    "import pandas as pd\n",
    "from dotenv import load_dotenv\n",
    "from ibm_watson_machine_learning.foundation_models import Model\n",
    "from ibm_watson_machine_learning.foundation_models.extensions.langchain import (\n",
    "    WatsonxLLM,\n",
    ")\n",
    "from ibm_watson_machine_learning.foundation_models.utils.enums import ModelTypes\n",
    "from ibm_watson_machine_learning.metanames import GenTextParamsMetaNames as GenParams\n",
    "from langchain.docstore.document import Document\n",
    "from langchain.text_splitter import RecursiveCharacterTextSplitter\n",
    "from langchain.vectorstores import FAISS\n",
    "from sqlalchemy import create_engine, text\n",
    "from sqlalchemy.orm import sessionmaker\n",
    "from hf_hub import HuggingFaceHubEmbeddings\n",
    "\n",
    "load_dotenv()\n",
    "\n",
    "\n",
    "MODELS = [\n",
    "    ModelTypes.FLAN_T5_XXL,\n",
    "    ModelTypes.LLAMA_2_70B_CHAT,\n",
    "    \"meta-llama/llama-3-70b-instruct\",\n",
    "]\n",
    "\n",
    "MODELS = {\n",
    "    x: WatsonxLLM(\n",
    "        model=Model(\n",
    "            model_id=x,\n",
    "            credentials={\n",
    "                \"apikey\": os.getenv(\"IBM_API_KEY\"),\n",
    "                \"url\": \"https://us-south.ml.cloud.ibm.com\",\n",
    "            },\n",
    "            params={\n",
    "                GenParams.DECODING_METHOD: \"greedy\",\n",
    "                GenParams.MAX_NEW_TOKENS: 300,\n",
    "                GenParams.TEMPERATURE: 0,\n",
    "                GenParams.RANDOM_SEED: 12345,\n",
    "                GenParams.STOP_SEQUENCES: [\"\\n\\n\"],\n",
    "            },\n",
    "            project_id=os.getenv(\"PROJECT_ID\"),\n",
    "        )\n",
    "    )\n",
    "    for x in MODELS\n",
    "}\n",
    "\n",
    "# print(MODELS[ModelTypes.FLAN_T5_XXL](\"hello how are you?\"))"
   ]
  },
  {
   "cell_type": "code",
   "execution_count": 2,
   "metadata": {},
   "outputs": [
    {
     "name": "stderr",
     "output_type": "stream",
     "text": [
      "/Users/nicolearitranair/Documents/Projects/uem/watsonx-uem-sunrise/uem-env-joint/lib/python3.11/site-packages/tqdm/auto.py:21: TqdmWarning: IProgress not found. Please update jupyter and ipywidgets. See https://ipywidgets.readthedocs.io/en/stable/user_install.html\n",
      "  from .autonotebook import tqdm as notebook_tqdm\n"
     ]
    }
   ],
   "source": [
    "#embeddings for semantic search\n",
    "\n",
    "embeddings = HuggingFaceHubEmbeddings(\n",
    "    model=\"sentence-transformers/all-mpnet-base-v2\",\n",
    "    task=\"feature-extraction\",\n",
    "    huggingfacehub_api_token=os.getenv(\"HUGGINGFACEHUB_API_TOKEN\"),\n",
    ")\n",
    "text_splitter = RecursiveCharacterTextSplitter(chunk_size=2000, chunk_overlap=100)\n",
    "text_files = [\n",
    "    \"../data/qa/the-connaught-one.txt\",\n",
    "    \"../data/qa/the-minh.txt\",\n",
    "    \"../data/qa/residensi-zig.txt\",\n",
    "]\n",
    "docs = [\n",
    "    Document(\n",
    "        page_content=open(x, encoding=\"utf-8\").read(),\n",
    "        metadata={\"filename\": pathlib.Path(x).stem},\n",
    "    )\n",
    "    for x in text_files\n",
    "]\n",
    "docs = text_splitter.split_documents(docs)\n",
    "vdb = FAISS.from_documents(docs, embeddings)\n",
    "vdb.save_local(\"../../backend/vdb\")\n",
    "vdb = FAISS.load_local(\"../../backend/vdb\", embeddings, allow_dangerous_deserialization=True)"
   ]
  },
  {
   "cell_type": "code",
   "execution_count": 3,
   "metadata": {},
   "outputs": [],
   "source": [
    "#prepare structured data into SQL\n",
    "\n",
    "engine = create_engine(\"sqlite:///database.db\", echo=False)\n",
    "data = pd.read_excel(\"../../backend/data/sql/zig-minh-connaught-sample.xlsx\", sheet_name=None)\n",
    "for k, v in data.items():\n",
    "    v.columns = [x.replace(\" \", \"_\") for x in v.columns]\n",
    "    table = k.split(\" \")[0]\n",
    "    v.to_sql(table, con=engine, index=False, if_exists=\"replace\")\n",
    "SessionLocal = sessionmaker(autocommit=False, autoflush=False, bind=engine)\n",
    "\n",
    "db = SessionLocal()\n",
    "with db.connection().engine.connect() as conn:\n",
    "    connaught = pd.read_sql(text(\"SELECT * from connaught\"), conn)\n",
    "    minh = pd.read_sql(text(\"SELECT * from minh\"), conn)\n",
    "    zig = pd.read_sql(text(\"SELECT * from zig\"), conn)\n",
    "# connaught.head()\n",
    "# minh.head()\n",
    "# zig.head()"
   ]
  },
  {
   "cell_type": "code",
   "execution_count": 4,
   "metadata": {},
   "outputs": [],
   "source": [
    "#generate questions & answers\n",
    "\n",
    "import pandas as pd\n",
    "import json\n",
    "import numpy as np\n",
    "import re\n",
    "from langchain.output_parsers.json import SimpleJsonOutputParser\n",
    "from prompt import ROUTING_TEMPLATE, PROPERTY_TEMPLATE\n",
    "from action import ACTIONS\n",
    "\n",
    "def generate_questions(rep_words):\n",
    "    parser = SimpleJsonOutputParser()\n",
    "    model = Model(\n",
    "        model_id=ModelTypes.LLAMA_2_70B_CHAT,\n",
    "        credentials={\n",
    "            \"apikey\": os.getenv(\"IBM_API_KEY\"),\n",
    "            \"url\": \"https://us-south.ml.cloud.ibm.com\",\n",
    "        },\n",
    "        params={\n",
    "            GenParams.DECODING_METHOD: \"greedy\",\n",
    "            GenParams.MAX_NEW_TOKENS: 800,\n",
    "            GenParams.TEMPERATURE: 0,\n",
    "            GenParams.RANDOM_SEED: 12345,\n",
    "            GenParams.STOP_SEQUENCES:[\"]\"]\n",
    "        },\n",
    "        project_id=os.getenv(\"PROJECT_ID\"),\n",
    "    )\n",
    "    llm = WatsonxLLM(model=model)\n",
    "    prompt = f\"\"\"\n",
    "Provide the responses as a list of JSONs with \"question\".\n",
    "\n",
    "Query: The following Questions Database provides by questions asked by many users. Analyze the questions and provide templates for 2-3 commonly asked questions that have been asked at least twice. Ensure that the selected questions are complete sentences. Let us think step by step.\n",
    "\n",
    "Example:\n",
    "Questions Database:\n",
    "[\"i want to move to malaysia. how?\", \"how can i move to malaysia?\", \"where is hamilton playing?\", \"hamilton is playing in which city?\", \"what is for lunch\", \"what is for lunch\", \"what is for lunch\", \"where is cappadocia\", \"who is elon musk\"]\n",
    "\n",
    "JSON output:\n",
    "[{{\"question\":\"what is for lunch\"}}, {{\"question\":\"how can i move to malaysia?\"}}, {{\"question\":\"where is hamilton playing?\"}}]\n",
    "\n",
    "Questions Database:\n",
    "{list(rep_words)}\n",
    "\n",
    "JSON output:\n",
    "\"\"\"\n",
    "\n",
    "    d = llm(prompt)\n",
    "    # print(d)\n",
    "    d = parser.invoke(d)\n",
    "    # print(d)\n",
    "    prompt2 = f\"\"\"\n",
    "Instructions: \n",
    "----------------\n",
    "When the question is specific, such as requesting properties within a certain price range, templatize the question. \n",
    "\n",
    "For example:\n",
    "\n",
    "Input:\n",
    "[{{\"question\": \"what are examples of terrace in Taman Tun area?\"}}, {{\"question\": \"what are facilities at Emporis?\"}}, {{\"question\": \"are there any units with price less than 100k?\"}}]\n",
    "\n",
    "Output:\n",
    "\n",
    "{{\"output\":[{{\"question\": \"what are examples of terrace in Taman Tun area?\", \"template\": \"what are examples of <house type> in <location>?\"}}, {{\"question\": \"what are facilities at Emporis?\", \"template\": \"what are facilities at <property name>?\"}}, {{\"question\": \"are there any units with price less than 100k?\", \"template\": \"are there any units with price less than <amount>k?\"}}]}}\n",
    "----------------\n",
    "\n",
    "Input: \n",
    "\n",
    "{d}\n",
    "\n",
    "Output:\n",
    "\"\"\"\n",
    "    d2 = llm(prompt2)\n",
    "    d2_s = re.findall(\"\\'template\\':(.*?)}\" ,d2)\n",
    "    d2_s = [e.replace(\"'\", \"\") for e in d2_s]\n",
    "    \n",
    "    \n",
    "    # d2_s = parser.invoke(d2.strip())\n",
    "    # if d2_s is None:\n",
    "    #     print(\"raise none error\", d2)\n",
    "    # return d2_s\n",
    "    return d2_s\n",
    "\n",
    "\n",
    "def customize_questions(questions, db):\n",
    "    responses = []\n",
    "    new_questions = []\n",
    "    for q in tqdm(questions):\n",
    "        if re.search(\"<.*?>\", q) is not None:\n",
    "            # print(q)\n",
    "            for x in re.findall(\"(<.*?>)\", q):\n",
    "                # print(q)\n",
    "                fill_in_blank = input(\"This is a dynamic FAQ. Fill in the \" + x + \"for the question above\")\n",
    "                q = q.replace(x, fill_in_blank)\n",
    "        # print(q)\n",
    "        new_questions.append(q)\n",
    "    return new_questions\n",
    "\n",
    "def generate(generate_request):\n",
    "    params = {\n",
    "    \"models\": MODELS,\n",
    "    \"db\": db,\n",
    "    \"vdb\": vdb,\n",
    "    \"property\": None, \n",
    "    }\n",
    "    k_docs = generate_request[\"k_docs\"]\n",
    "    wa_property = generate_request[\"current_page\"]\n",
    "    question = generate_request[\"question\"]\n",
    "    prompt = ROUTING_TEMPLATE.replace(\"{{question}}\", question)\n",
    "    action_output = int(params[\"models\"][ModelTypes.FLAN_T5_XXL](prompt).strip())\n",
    "    if action_output in [1, 3]:\n",
    "        property = None\n",
    "        property_name = params[\"models\"][ModelTypes.FLAN_T5_XXL](\n",
    "            PROPERTY_TEMPLATE.replace(\"{{question}}\", question)\n",
    "        ).strip()\n",
    "        if wa_property is not None:\n",
    "            property = wa_property\n",
    "        if property_name != \"NONE\":\n",
    "            property = property_name\n",
    "        if property is not None:\n",
    "                params.update(\n",
    "                    {\n",
    "                        \"question\": f\"For {property}: {question}\",\n",
    "                        \"property\": property,\n",
    "                        \"detected_property_name\": property_name\n",
    "                    }\n",
    "                )\n",
    "        else:\n",
    "            params.update(\n",
    "                {\n",
    "                    \"question\": question,\n",
    "                    \"property\": property,\n",
    "                    \"detected_property_name\": property_name\n",
    "                }\n",
    "            )\n",
    "    else:\n",
    "        params.update({\"question\": question, \"property\": None, \"detected_property_name\": \"NONE\"})\n",
    "    print(f\"Question: {question} - [Action: {action_output}]\")\n",
    "    generated_text, custom_response = ACTIONS[action_output](params).values()\n",
    "    return {\"generated_text\": generated_text, \"custom_response\": custom_response}\n",
    "    \n",
    "\n",
    "def generate_questions_and_answers(log, property):\n",
    "    questions = generate_questions(log)\n",
    "    cust = [q.replace(\"<property name>\", property) for q in questions]\n",
    "    answers = [generate(\n",
    "        {\n",
    "    \"k_docs\": 3,\n",
    "    \"current_page\": None,\n",
    "    \"question\": c\n",
    "}\n",
    "    )[\"generated_text\"] for c in cust]\n",
    "    return cust, answers\n"
   ]
  },
  {
   "cell_type": "markdown",
   "metadata": {},
   "source": [
    "3 cells below demonstrate the faq generation capability"
   ]
  },
  {
   "cell_type": "code",
   "execution_count": 5,
   "metadata": {},
   "outputs": [
    {
     "name": "stdout",
     "output_type": "stream",
     "text": [
      "Question:  how much is residensi zig? - [Action: 3]\n",
      "Property: residensi-zig\n",
      "Question:  may i know the price for each unit at residensi zig? - [Action: 1]\n",
      "Generated SQL Query: SELECT Price FROM zig;\n",
      "Question:  can i get more detail and sales person incharge for residensi zig? - [Action: 3]\n",
      "Property: residensi-zig\n"
     ]
    },
    {
     "data": {
      "text/plain": [
       "([' how much is residensi zig?',\n",
       "  ' may i know the price for each unit at residensi zig?',\n",
       "  ' can i get more detail and sales person incharge for residensi zig?'],\n",
       " ['The price range for Residensi ZIG is from RM 340,888 to RM 874,888, depending on the unit type and built-up size.',\n",
       "  'The price for each unit at residensi Residensi Zig is 781888.0, 773888.0, 781888.0, 611888.0, 605888.0.\\nPlease note that there are more than 5 relevant results. Please refer to https://www.uemsunrise.com/property/region/greater-kuala-lumpur/project/residensi-zig for more information',\n",
       "  'Sure, you can get more details and contact information for the sales person in charge of Residensi ZIG by visiting the showroom located at Kepong Metropolitan Lake-garden, 52100 Kuala Lumpur, Wilayah Persekutuan Kuala Lumpur, Malaysia, or by calling the phone number 012-8181 259 during operating hours.'])"
      ]
     },
     "execution_count": 5,
     "metadata": {},
     "output_type": "execute_result"
    }
   ],
   "source": [
    "raw_log_1 = pd.read_excel(\"../data/faq/unidentified-export may-8th november_edit.xlsx\", sheet_name=\"property\")[\"property\"]\n",
    "generate_questions_and_answers(raw_log_1, \"residensi zig\")"
   ]
  },
  {
   "cell_type": "code",
   "execution_count": 6,
   "metadata": {},
   "outputs": [
    {
     "name": "stdout",
     "output_type": "stream",
     "text": [
      "Question:  how much is the connaught one? - [Action: 3]\n",
      "Property: the-connaught-one\n",
      "Question:  may i know the price for each unit at the connaught one? - [Action: 1]\n",
      "Generated SQL Query: SELECT Price FROM connaught;\n",
      "Question:  can i get more detail and sales person incharge for the connaught one? - [Action: 3]\n",
      "Property: the-connaught-one\n"
     ]
    },
    {
     "data": {
      "text/plain": [
       "([' how much is the connaught one?',\n",
       "  ' may i know the price for each unit at the connaught one?',\n",
       "  ' can i get more detail and sales person incharge for the connaught one?'],\n",
       " ['The price of The Connaught One starts from RM290,000 onwards, with units ranging from 42 sqm to 118 sqm (452 sqft to 1,270 sqft) and up to 4 bedrooms.',\n",
       "  'The price for each unit at the The Connaught One one is 343888, 335888, 338888, 335888.\\nPlease note that there are more than 5 relevant results. Please refer to https://www.uemsunrise.com/property/region/greater-kuala-lumpur/project/the-connaught-one for more information',\n",
       "  'Sure, you can get more details and contact information for the sales person in charge of The Connaught One by visiting the UEM Sunrise website or by contacting their customer care line at 1800-88-8008 or international line at 603-2711-8008.'])"
      ]
     },
     "execution_count": 6,
     "metadata": {},
     "output_type": "execute_result"
    }
   ],
   "source": [
    "raw_log_1 = pd.read_excel(\"../data/faq/unidentified-export may-8th november_edit.xlsx\", sheet_name=\"property\")[\"property\"]\n",
    "generate_questions_and_answers(raw_log_1, \"the connaught one\")"
   ]
  },
  {
   "cell_type": "code",
   "execution_count": 7,
   "metadata": {},
   "outputs": [
    {
     "name": "stdout",
     "output_type": "stream",
     "text": [
      "Question:  how much is the minh? - [Action: 3]\n",
      "Property: the-minh\n",
      "Question:  may i know the price for each unit at the minh? - [Action: 1]\n",
      "Generated SQL Query: SELECT Price FROM minh;\n",
      "Question:  can i get more detail and sales person incharge for the minh? - [Action: 3]\n",
      "Property: the-minh\n"
     ]
    },
    {
     "data": {
      "text/plain": [
       "([' how much is the minh?',\n",
       "  ' may i know the price for each unit at the minh?',\n",
       "  ' can i get more detail and sales person incharge for the minh?'],\n",
       " [\"The Minh's selling price ranges from RM1,399,800 to RM3,178,370.\",\n",
       "  'The price for each unit at the The MINH is 2452800, 2670800, 1854800, 1447800, 1828800.\\nPlease note that there are more than 5 relevant results. Please refer to https://www.uemsunrise.com/property/region/greater-kuala-lumpur/project/the-minh for more information',\n",
       "  'Sure, you can get more details and contact information for the sales person in charge of The MINH by visiting the showroom or contacting the developer, Laser Tower Sdn Bhd, directly.'])"
      ]
     },
     "execution_count": 7,
     "metadata": {},
     "output_type": "execute_result"
    }
   ],
   "source": [
    "raw_log_1 = pd.read_excel(\"../data/faq/unidentified-export may-8th november_edit.xlsx\", sheet_name=\"property\")[\"property\"]\n",
    "generate_questions_and_answers(raw_log_1, \"the minh\")"
   ]
  }
 ],
 "metadata": {
  "kernelspec": {
   "display_name": "uem-env-joint",
   "language": "python",
   "name": "uem-env-joint"
  },
  "language_info": {
   "codemirror_mode": {
    "name": "ipython",
    "version": 3
   },
   "file_extension": ".py",
   "mimetype": "text/x-python",
   "name": "python",
   "nbconvert_exporter": "python",
   "pygments_lexer": "ipython3",
   "version": "3.11.5"
  }
 },
 "nbformat": 4,
 "nbformat_minor": 4
}
