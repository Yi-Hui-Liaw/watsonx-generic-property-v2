{
 "cells": [
  {
   "cell_type": "code",
   "execution_count": 50,
   "id": "7c18e679-ac33-4664-9cf0-166061154349",
   "metadata": {},
   "outputs": [],
   "source": [
    "import re\n",
    "from langchain.docstore.document import Document\n",
    "#setup model\n",
    "#setup\n",
    "import os\n",
    "import re\n",
    "import fitz\n",
    "import copy\n",
    "import pathlib\n",
    "import pandas as pd\n",
    "from tqdm import tqdm\n",
    "from ibm_watson_machine_learning.foundation_models import Model\n",
    "from ibm_watson_machine_learning.foundation_models.extensions.langchain import (\n",
    "    WatsonxLLM,\n",
    ")\n",
    "from ibm_watson_machine_learning.foundation_models.utils.enums import ModelTypes\n",
    "from ibm_watson_machine_learning.metanames import GenTextParamsMetaNames as GenParams\n",
    "from langchain.docstore.document import Document\n",
    "from langchain.text_splitter import RecursiveCharacterTextSplitter, CharacterTextSplitter\n",
    "from langchain.vectorstores import FAISS\n",
    "from langchain.schema.embeddings import Embeddings\n",
    "from typing import List\n",
    "from sentence_transformers import SentenceTransformer\n",
    "from dotenv import load_dotenv\n",
    "\n",
    "load_dotenv()\n",
    "\n",
    "#read property chat inquiry - converted to text \n",
    "with open(\"../data/faq/property_inquiry_for_chatbot 1.txt\", \"r\") as f:\n",
    "    data_inquiry = f.read()\n",
    "docs_multi_prop = [i for i in re.split(\"Images:\", data_inquiry)]"
   ]
  },
  {
   "cell_type": "code",
   "execution_count": 61,
   "id": "ee7a8f05-0d10-412a-a8de-874f006a2d98",
   "metadata": {},
   "outputs": [
    {
     "name": "stderr",
     "output_type": "stream",
     "text": [
      "1it [00:14, 14.66s/it]"
     ]
    },
    {
     "name": "stdout",
     "output_type": "stream",
     "text": [
      "{'Project': 'The MINH', 'Website Project name': 'The Minh', 'FloorPlan': [{'Bedrooms': 3, 'Bathrooms': 3, 'Parking Lots': 2}], 'Type': 'Type A', 'Size': 1607, 'Min Price': 'NA', 'Max Price': 'NA', 'Min Built-Up': 1607, 'Max Built-Up': 3010, 'Tenure': 'Freehold', 'Property Type': 'Condominium', 'Region': 'Central', 'Postcode': 50480, 'Location': 'Mont Kiara', 'State': 'Kuala Lumpur', 'Amenities': 'NA', 'Features': ['Resort style condominium with indochine influences', 'Beautifully designed swimming pool with water cascade', 'Private lift', 'Indoor scenic spa hut', 'EV charger ready via power point', 'Automated waste collection system', 'Multi-generational playground', 'Express ramp to multi-level parking', 'Certified by GreenRE']}\n"
     ]
    },
    {
     "name": "stderr",
     "output_type": "stream",
     "text": [
      "2it [00:26, 13.18s/it]"
     ]
    },
    {
     "name": "stdout",
     "output_type": "stream",
     "text": [
      "{'Project': 'The MINH', 'Website Project name': 'The Minh', 'FloorPlan': [{'Bedrooms': 3, 'Bathrooms': 3, 'Parking Lots': 2}], 'Type': 'Type A', 'Size': 1607, 'Min Price': 'NA', 'Max Price': 'NA', 'Min Built-Up': 1607, 'Max Built-Up': 3010, 'Tenure': 'Freehold', 'Property Type': 'Condominium', 'Region': 'Central', 'Postcode': 50480, 'Location': 'Mont Kiara', 'State': 'Kuala Lumpur', 'Amenities': 'NA', 'Features': ['Resort style condominium with indochine influences', 'Beautifully designed swimming pool with water cascade', 'Private lift', 'Indoor scenic spa hut', 'EV charger ready via power point', 'Automated waste collection system', 'Multi-generational playground', 'Express ramp to multi-level parking', 'Certified by GreenRE']}\n"
     ]
    },
    {
     "name": "stderr",
     "output_type": "stream",
     "text": [
      "3it [00:43, 14.93s/it]"
     ]
    },
    {
     "name": "stdout",
     "output_type": "stream",
     "text": [
      "{'Project': 'The MINH', 'Website Project name': 'The Minh', 'FloorPlan': [{'Bedrooms': 3, 'Bathrooms': 4, 'Parking Lots': 3}, {'Bedrooms': 3, 'Bathrooms': 4, 'Parking Lots': 3}, {'Bedrooms': 3, 'Bathrooms': 4, 'Parking Lots': 3}], 'Type': 'Type B', 'Size': 2076, 'Min Price': 'NA', 'Max Price': 'NA', 'Min Built-Up': 1607, 'Max Built-Up': 3010, 'Tenure': 'Freehold', 'Property Type': 'Condominium', 'Region': 'Central', 'Postcode': 50480, 'Location': 'Mont Kiara', 'State': 'Kuala Lumpur', 'Amenities': 'NA', 'Features': ['Resort style condominium with indochine influences', 'Beautifully designed swimming pool with water cascade', 'Private lift', 'Indoor scenic spa hut', 'EV charger ready via power point', 'Automated waste collection system', 'Multi-generational playground', 'Express ramp to multi-level parking', 'Certified by GreenRE']}\n"
     ]
    },
    {
     "name": "stderr",
     "output_type": "stream",
     "text": [
      "4it [00:59, 15.31s/it]"
     ]
    },
    {
     "name": "stdout",
     "output_type": "stream",
     "text": [
      "{'Project': 'The MINH', 'Website Project name': 'The Minh', 'FloorPlan': [{'Bedrooms': 3, 'Bathrooms': 4, 'Parking Lots': 3}, {'Bedrooms': 3, 'Bathrooms': 4, 'Parking Lots': 3}, {'Bedrooms': 3, 'Bathrooms': 4, 'Parking Lots': 3}], 'Type': 'Type C', 'Size': 2733, 'Min Price': 'NA', 'Max Price': 'NA', 'Min Built-Up': 1607, 'Max Built-Up': 3010, 'Tenure': 'Freehold', 'Property Type': 'Condominium', 'Region': 'Central', 'Postcode': 50480, 'Location': 'Mont Kiara', 'State': 'Kuala Lumpur', 'Amenities': 'NA', 'Features': ['Resort style condominium with indochine influences', 'Beautifully designed swimming pool with water cascade', 'Private lift', 'Indoor scenic spa hut', 'EV charger ready via power point', 'Automated waste collection system', 'Multi-generational playground', 'Express ramp to multi-level parking', 'Certified by GreenRE']}\n"
     ]
    },
    {
     "name": "stderr",
     "output_type": "stream",
     "text": [
      "5it [01:13, 14.87s/it]"
     ]
    },
    {
     "name": "stdout",
     "output_type": "stream",
     "text": [
      "{'Project': 'The MINH', 'Website Project name': 'The Minh', 'FloorPlan': [{'Bedrooms': 3, 'Bathrooms': 4, 'Parking Lots': 4}, {'Type': 'Type D', 'Size': 3010, 'Min Price': 'NA', 'Max Price': 'NA', 'Min Built-Up': 1607, 'Max Built-Up': 3010, 'Tenure': 'Freehold', 'Property Type': 'Condominium', 'Region': 'Central', 'Postcode': 50480, 'Location': 'Mont Kiara', 'State': 'Kuala Lumpur', 'Amenities': 'NA', 'Features': ['Resort style condominium with indochine influences', 'Beautifully designed swimming pool with water cascade', 'Private lift', 'Indoor scenic spa hut', 'EV charger ready via power point', 'Automated waste collection system', 'Multi-generational playground', 'Express ramp to multi-level parking', 'Certified by GreenRE']}]}\n"
     ]
    },
    {
     "name": "stderr",
     "output_type": "stream",
     "text": [
      "6it [01:32, 16.10s/it]"
     ]
    },
    {
     "name": "stdout",
     "output_type": "stream",
     "text": [
      "{'Project': 'The Connaught One', 'Website Project name': 'The Connaught One', 'FloorPlan': [{'Name': '1 Bedroom', 'Bathroom': 1, 'Parking Lots': []}, {'Name': '1 Bathroom', 'Bathroom': 1, 'Parking Lots': []}], 'Type': 'Type A', 'Size': 452, 'Min Price': 335888, 'Max Price': 805888, 'Min Built-Up': 452, 'Max Built-Up': 1270, 'Tenure': 'Freehold', 'Property Type': 'Condominium', 'Region': 'Central', 'Postcode': 56100, 'Location': 'Cheras', 'State': 'Kuala Lumpur', 'Amenities': [{'Name': 'Pasar Malam Taman Connaught', 'Distance': 1.5}, {'Name': 'Eko Cheras Mall', 'Distance': 2.7}, {'Name': 'Yuan Fong Kopitiam', 'Distance': 2.7}, {'Name': 'Alam Damai Recreational Park', 'Distance': 4.8}], 'Features': [{'Name': 'Right Next To MRT Station'}, {'Name': 'Signature Adaptive Home'}, {'Name': 'Unobstructed View'}, {'Name': 'Parcel Room'}, {'Name': 'Dedicated Urban Yard'}, {'Name': 'Home-Work Zone'}]}\n"
     ]
    },
    {
     "name": "stderr",
     "output_type": "stream",
     "text": [
      "7it [01:47, 15.77s/it]"
     ]
    },
    {
     "name": "stdout",
     "output_type": "stream",
     "text": [
      "{'Project': 'The Connaught One', 'Website Project name': 'The Connaught One', 'FloorPlan': [{'Bedrooms': 2, 'Bathroom': 1, 'Parking Lots': []}, {'Bedrooms': 2, 'Bathroom': 1, 'Parking Lots': []}], 'Type': 'Type B', 'Size': 66, 'Min Price': 335888, 'Max Price': 805888, 'Min Built-Up': 452, 'Max Built-Up': 1270, 'Tenure': 'Freehold', 'Property Type': 'Condominium', 'Region': 'Central', 'Postcode': 56100, 'Location': 'Cheras', 'State': 'Kuala Lumpur', 'Amenities': ['Pasar Malam Taman Connaught', 'Eko Cheras Mall', 'Yuan Fong Kopitiam', 'Alam Damai Recreational Park'], 'Features': ['Right Next To MRT Station', 'Signature Adaptive Home', 'Unobstructed View', 'Parcel Room', 'Dedicated Urban Yard', 'Home-Work Zone']}\n"
     ]
    },
    {
     "name": "stderr",
     "output_type": "stream",
     "text": [
      "8it [02:01, 15.29s/it]"
     ]
    },
    {
     "name": "stdout",
     "output_type": "stream",
     "text": [
      "{'Project': 'The Connaught One', 'Website Project name': 'The Connaught One', 'FloorPlan': [{'Type': 'Type C', 'Size': 89, 'Min Price': 335888, 'Max Price': 805888, 'Min Built-Up': 452, 'Max Built-Up': 1270, 'Tenure': 'Freehold', 'Property Type': 'Condominium', 'Region': 'Central', 'Postcode': 56100, 'Location': 'Cheras', 'State': 'Kuala Lumpur', 'Amenities': ['Pasar Malam Taman Connaught', 'Eko Cheras Mall', 'Yuan Fong Kopitiam', 'Alam Damai Recreational Park'], 'Features': ['Right Next To MRT Station', 'Signature Adaptive Home', 'Unobstructed View', 'Parcel Room', 'Dedicated Urban Yard', 'Home-Work Zone']}]}\n"
     ]
    },
    {
     "name": "stderr",
     "output_type": "stream",
     "text": [
      "9it [02:22, 17.07s/it]"
     ]
    },
    {
     "name": "stdout",
     "output_type": "stream",
     "text": [
      "{'Project': 'The Connaught One', 'Website Project name': 'The Connaught One', 'FloorPlan': [{'Bedrooms': 3, 'Bathrooms': 2, 'Parking Lots': []}, {'Bedrooms': 3, 'Bathrooms': 2, 'Parking Lots': []}], 'Type': 'Type D', 'Size': 93, 'Min Price': 335888, 'Max Price': 805888, 'Min Built-Up': 452, 'Max Built-Up': 1270, 'Tenure': 'Freehold', 'Property Type': 'Condominium', 'Region': 'Central', 'Postcode': 56100, 'Location': 'Cheras', 'State': 'Kuala Lumpur', 'Amenities': [{'Name': 'Pasar Malam Taman Connaught', 'Distance': 1.5}, {'Name': 'Eko Cheras Mall', 'Distance': 2.7}, {'Name': 'Yuan Fong Kopitiam', 'Distance': 2.7}, {'Name': 'Alam Damai Recreational Park', 'Distance': 4.8}], 'Features': [{'Name': 'Right Next To MRT Station'}, {'Name': 'Signature Adaptive Home'}, {'Name': 'Unobstructed View'}, {'Name': 'Parcel Room'}, {'Name': 'Dedicated Urban Yard'}, {'Name': 'Home-Work Zone'}]}\n"
     ]
    },
    {
     "name": "stderr",
     "output_type": "stream",
     "text": [
      "10it [02:39, 17.14s/it]"
     ]
    },
    {
     "name": "stdout",
     "output_type": "stream",
     "text": [
      "{'Project': 'The Connaught One', 'Website Project name': 'The Connaught One', 'FloorPlan': [{'Bedrooms': 4, 'Bathrooms': 3, 'Parking Lots': []}, {'Bedrooms': 4, 'Bathrooms': 3, 'Parking Lots': []}], 'Type': 'Type E', 'Size': 118, 'Min Price': 335888, 'Max Price': 805888, 'Min Built-Up': 452, 'Max Built-Up': 1270, 'Tenure': 'Freehold', 'Property Type': 'Condominium', 'Region': 'Central', 'Postcode': 56100, 'Location': 'Cheras', 'State': 'Kuala Lumpur', 'Amenities': [{'Name': 'Pasar Malam Taman Connaught', 'Distance': 1.5}, {'Name': 'Eko Cheras Mall', 'Distance': 2.7}, {'Name': 'Yuan Fong Kopitiam', 'Distance': 2.7}, {'Name': 'Alam Damai Recreational Park', 'Distance': 4.8}], 'Features': [{'Name': 'Right Next To MRT Station'}, {'Name': 'Signature Adaptive Home'}, {'Name': 'Unobstructed View'}, {'Name': 'Parcel Room'}, {'Name': 'Dedicated Urban Yard'}, {'Name': 'Home-Work Zone'}]}\n"
     ]
    },
    {
     "name": "stderr",
     "output_type": "stream",
     "text": [
      "11it [02:56, 17.01s/it]"
     ]
    },
    {
     "name": "stdout",
     "output_type": "stream",
     "text": [
      "{'Project': 'Residensi ZIG', 'Website Project name': 'Residensi ZIG', 'FloorPlan': [{'Name': 'Type A', 'Size': 450, 'Min Price': 340888, 'Max Price': 874888, 'Min Built-Up': 452, 'Max Built-Up': 1195, 'Tenure': 'Leasehold', 'Property Type': 'Apartment', 'Region': 'Central', 'Postcode': 52100, 'Location': 'Kepong', 'State': 'Kuala Lumpur', 'Amenities': [{'Name': 'Kepong Metropolitan Park', 'Distance': 0.4}, {'Name': 'SMK Jinjang', 'Distance': 1.1}, {'Name': 'MRT Kepong Baru Station', 'Distance': 2.4}, {'Name': 'AEON Big Kepong', 'Distance': 2.8}, {'Name': 'Selayang Hospital', 'Distance': 4.6}, {'Name': 'Batu Caves', 'Distance': 7.2}, {'Name': 'Mercure Hotel', 'Distance': 7.2}], 'Features': ['Move-in Ready ID Package', 'Bike-friendly Project', 'Adaptive And Compact Living', 'Multi-generation Interaction', 'Wellness Lifestyle']}]}\n"
     ]
    },
    {
     "name": "stderr",
     "output_type": "stream",
     "text": [
      "12it [03:13, 16.83s/it]"
     ]
    },
    {
     "name": "stdout",
     "output_type": "stream",
     "text": [
      "{'Project': 'Residensi ZIG', 'Website Project name': 'Residensi ZIG', 'FloorPlan': ['3 Bedrooms', '2 Bathrooms', 'Parking Lot'], 'Type': 'Type B', 'Size': 898, 'Min Price': 340888, 'Max Price': 874888, 'Min Built-Up': 452, 'Max Built-Up': 1195, 'Tenure': 'Leasehold', 'Property Type': 'Apartment', 'Region': 'Central', 'Postcode': 52100, 'Location': 'Kepong', 'State': 'Kuala Lumpur', 'Amenities': ['Kepong Metropolitan Park 0.4KM', 'SMK Jinjang 1.1KM', 'MRT Kepong Baru Station 2.4KM', 'AEON Big Kepong 2.8KM', 'Selayang Hospital 4.6KM', 'Batu Caves 7.2Km', 'Mercure Hotel 7.2KM'], 'Features': ['Move-in Ready ID Package', 'Bike-friendly Project', 'Adaptive And Compact Living', 'Multi-generation Interaction', 'Wellness Lifestyle']}\n"
     ]
    },
    {
     "name": "stderr",
     "output_type": "stream",
     "text": [
      "13it [03:28, 16.56s/it]"
     ]
    },
    {
     "name": "stdout",
     "output_type": "stream",
     "text": [
      "{'Project': 'Residensi ZIG', 'Website Project name': 'Residensi ZIG', 'FloorPlan': {'Bedrooms': 3, 'Bathrooms': 2, 'Parking Lot': True}, 'Type': 'Type C', 'Size': 998, 'Min Price': 340888, 'Max Price': 874888, 'Min Built-Up': 452, 'Max Built-Up': 1195, 'Tenure': 'Leasehold', 'Property Type': 'Apartment', 'Region': 'Central', 'Postcode': '52100', 'Location': 'Kepong', 'State': 'Kuala Lumpur', 'Amenities': ['Kepong Metropolitan Park 0.4KM', 'SMK Jinjang 1.1KM', 'MRT Kepong Baru Station 2.4KM', 'AEON Big Kepong 2.8KM', 'Selayang Hospital 4.6KM', 'Batu Caves 7.2Km', 'Mercure Hotel 7.2KM'], 'Features': ['Move-in Ready ID Package', 'Bike-friendly Project', 'Adaptive And Compact Living', 'Multi-generation Interaction', 'Wellness Lifestyle']}\n"
     ]
    },
    {
     "name": "stderr",
     "output_type": "stream",
     "text": [
      "14it [03:45, 16.53s/it]"
     ]
    },
    {
     "name": "stdout",
     "output_type": "stream",
     "text": [
      "{'Project': 'Residensi ZIG', 'Website Project name': 'Residensi ZIG', 'FloorPlan': {'Bedrooms': 4, 'Bathrooms': 2, 'Parking Lot': True}, 'Type': 'Type D', 'Size': 1135, 'Min Price': 340888, 'Max Price': 874888, 'Min Built-Up': 452, 'Max Built-Up': 1195, 'Tenure': 'Leasehold', 'Property Type': 'Apartment', 'Region': 'Central', 'Postcode': '52100', 'Location': 'Kepong', 'State': 'Kuala Lumpur', 'Amenities': ['Kepong Metropolitan Park 0.4KM', 'SMK Jinjang 1.1KM', 'MRT Kepong Baru Station 2.4KM', 'AEON Big Kepong 2.8KM', 'Selayang Hospital 4.6KM', 'Batu Caves 7.2Km', 'Mercure Hotel 7.2KM'], 'Features': ['Move-in Ready ID Package', 'Bike-friendly Project', 'Adaptive And Compact Living', 'Multi-generation Interaction', 'Wellness Lifestyle']}\n"
     ]
    },
    {
     "name": "stderr",
     "output_type": "stream",
     "text": [
      "15it [04:03, 17.11s/it]"
     ]
    },
    {
     "name": "stdout",
     "output_type": "stream",
     "text": [
      "None\n",
      "14\n"
     ]
    },
    {
     "name": "stderr",
     "output_type": "stream",
     "text": [
      "16it [04:06, 15.40s/it]"
     ]
    },
    {
     "name": "stdout",
     "output_type": "stream",
     "text": [
      "{'name': 'John', 'age': 30, 'city': 'New York'}\n"
     ]
    },
    {
     "name": "stderr",
     "output_type": "stream",
     "text": [
      "\n"
     ]
    }
   ],
   "source": [
    "from langchain.output_parsers.json import SimpleJsonOutputParser\n",
    "\n",
    "model = Model(\n",
    "model_id=ModelTypes.LLAMA_2_70B_CHAT,\n",
    "credentials={\n",
    "    \"apikey\": os.getenv(\"IBM_API_KEY\"),\n",
    "    \"url\": \"https://us-south.ml.cloud.ibm.com\",\n",
    "},\n",
    "params={\n",
    "    GenParams.DECODING_METHOD: \"greedy\",\n",
    "    GenParams.MAX_NEW_TOKENS: 1200,\n",
    "    GenParams.TEMPERATURE: 0,\n",
    "    GenParams.RANDOM_SEED: 12345,\n",
    "},\n",
    "project_id=os.getenv(\"PROJECT_ID\"),\n",
    ")\n",
    "llm = WatsonxLLM(model=model)\n",
    "parser = SimpleJsonOutputParser()\n",
    "\n",
    "json_outputs = []\n",
    "test = []\n",
    "for e, i in tqdm(enumerate(docs_multi_prop)):\n",
    "    prompt = f\"\"\"\n",
    "<s>[INST] <<SYS>>\n",
    "You are a helpful, respectful and honest assistant. Always answer as helpfully as possible, while being safe.  Your answers should not include any harmful, unethical, racist, sexist, toxic, dangerous, or illegal content. Please ensure that your responses are socially unbiased and positive in nature.\n",
    "\n",
    "If a question does not make any sense, or is not factually coherent, explain why instead of answering something not correct. If you don't know the answer to a question, please don't share false information.\n",
    "<</SYS>>\n",
    "\n",
    "Convert the following text into JSON format, do not provide any explanation:\n",
    "\n",
    "Input:\n",
    "{i.strip()}\n",
    "\n",
    "Output:\n",
    "[/INST]\n",
    "\"\"\"\n",
    "    # print(i)\n",
    "\n",
    "    gen = llm(prompt)\n",
    "    if e == 11:\n",
    "        gen = gen.replace('{\\n\"3 Bedrooms\",\\n\"2 Bathrooms\",\\n\"Parking Lot\"\\n}', '[\\n\"3 Bedrooms\",\\n\"2 Bathrooms\",\\n\"Parking Lot\"\\n]')\n",
    "    if e == 14:\n",
    "        gen = gen.replace('[\\n{\\n\"Bedrooms\": 4,\\n\"Bathrooms\": 3,\\n\"Parking Lots\": 3\\n}', '{\\n\"Bedrooms\": 4,\\n\"Bathrooms\": 3,\\n\"Parking Lots\": 3\\n}')\n",
    "\n",
    "    # print(gen)\n",
    "    test.append(gen)\n",
    "    gen2 = parser.invoke(gen)\n",
    "    json_outputs.append(gen2)\n",
    "    print(gen2)\n",
    "\n",
    "    if gen2 is None:\n",
    "        print(e)"
   ]
  },
  {
   "cell_type": "code",
   "execution_count": 31,
   "id": "a812f269-1afb-45a2-95a3-b04d3b39ec7d",
   "metadata": {},
   "outputs": [],
   "source": [
    "del json_outputs[7]\n",
    "# json_outputs = [i for i in json_outputs if i is not None]\n",
    "df = pd.DataFrame.from_dict(json_outputs)\n",
    "df = df.rename(columns={\"name\":\"Project Name\"})\n",
    "df.to_excel(\"../data/faq/chatbot_json.xlsx\")"
   ]
  },
  {
   "cell_type": "code",
   "execution_count": 33,
   "id": "adbdb729-5772-469d-959f-f256b565d053",
   "metadata": {},
   "outputs": [
    {
     "data": {
      "text/plain": [
       "[{'Project': 'The MINH',\n",
       "  'Website Project name': 'The Minh',\n",
       "  'FloorPlan': [{'Bedrooms': 3, 'Bathrooms': 3, 'Parking Lots': 2}],\n",
       "  'Type': 'Type A',\n",
       "  'Size': 1607,\n",
       "  'Min Price': 'NA',\n",
       "  'Max Price': 'NA',\n",
       "  'Min Built-Up': 1607,\n",
       "  'Max Built-Up': 3010,\n",
       "  'Tenure': 'Freehold',\n",
       "  'Property Type': 'Condominium',\n",
       "  'Region': 'Central',\n",
       "  'Postcode': 50480,\n",
       "  'Location': \"Mont' Kiara\",\n",
       "  'State': 'Kuala Lumpur',\n",
       "  'Amenities': 'NA',\n",
       "  'Features': ['Resort style condominium with indochine influences',\n",
       "   'Beautifully designed swimming pool with water cascade',\n",
       "   'Private lift',\n",
       "   'Indoor scenic spa hut',\n",
       "   'EV charger ready via power point',\n",
       "   'Automated waste collection system',\n",
       "   'Multi-generational playground',\n",
       "   'Express ramp to multi-level parking',\n",
       "   'Certified by GreenRE']},\n",
       " {'Project': 'The MINH',\n",
       "  'Website Project name': 'The Minh',\n",
       "  'FloorPlan': [{'Bedrooms': 3, 'Bathrooms': 3, 'Parking Lots': 2}],\n",
       "  'Type': 'Type A',\n",
       "  'Size': 1607,\n",
       "  'Min Price': 'NA',\n",
       "  'Max Price': 'NA',\n",
       "  'Min Built-Up': 1607,\n",
       "  'Max Built-Up': 3010,\n",
       "  'Tenure': 'Freehold',\n",
       "  'Property Type': 'Condominium',\n",
       "  'Region': 'Central',\n",
       "  'Postcode': 50480,\n",
       "  'Location': \"Mont' Kiara\",\n",
       "  'State': 'Kuala Lumpur',\n",
       "  'Amenities': 'NA',\n",
       "  'Features': ['Resort style condominium with indochine influences',\n",
       "   'Beautifully designed swimming pool with water cascade',\n",
       "   'Private lift',\n",
       "   'Indoor scenic spa hut',\n",
       "   'EV charger ready via power point',\n",
       "   'Automated waste collection system',\n",
       "   'Multi-generational playground',\n",
       "   'Express ramp to multi-level parking',\n",
       "   'Certified by GreenRE']},\n",
       " {'Project': 'The MINH',\n",
       "  'Website Project name': 'The Minh',\n",
       "  'FloorPlan': [{'Bedrooms': 3, 'Bathrooms': 4, 'Parking Lots': 3},\n",
       "   {'Bedrooms': 3, 'Bathrooms': 4, 'Parking Lots': 3},\n",
       "   {'Bedrooms': 3, 'Bathrooms': 4, 'Parking Lots': 3}],\n",
       "  'Type': 'Type B',\n",
       "  'Size': 2076,\n",
       "  'Min Price': 'NA',\n",
       "  'Max Price': 'NA',\n",
       "  'Min Built-Up': 1607,\n",
       "  'Max Built-Up': 3010,\n",
       "  'Tenure': 'Freehold',\n",
       "  'Property Type': 'Condominium',\n",
       "  'Region': 'Central',\n",
       "  'Postcode': 50480,\n",
       "  'Location': \"Mont' Kiara\",\n",
       "  'State': 'Kuala Lumpur',\n",
       "  'Amenities': 'NA',\n",
       "  'Features': ['Resort style condominium with indochine influences',\n",
       "   'Beautifully designed swimming pool with water cascade',\n",
       "   'Private lift',\n",
       "   'Indoor scenic spa hut',\n",
       "   'EV charger ready via power point',\n",
       "   'Automated waste collection system',\n",
       "   'Multi-generational playground',\n",
       "   'Express ramp to multi-level parking',\n",
       "   'Certified by GreenRE']},\n",
       " {'Project': 'The MINH',\n",
       "  'Website Project name': 'The Minh',\n",
       "  'FloorPlan': [{'Bedrooms': 3, 'Bathrooms': 4, 'Parking Lots': 3},\n",
       "   {'Bedrooms': 3, 'Bathrooms': 4, 'Parking Lots': 3},\n",
       "   {'Bedrooms': 3, 'Bathrooms': 4, 'Parking Lots': 3}],\n",
       "  'Type': 'Type C',\n",
       "  'Size': 2733,\n",
       "  'Min Price': 'NA',\n",
       "  'Max Price': 'NA',\n",
       "  'Min Built-Up': 1607,\n",
       "  'Max Built-Up': 3010,\n",
       "  'Tenure': 'Freehold',\n",
       "  'Property Type': 'Condominium',\n",
       "  'Region': 'Central',\n",
       "  'Postcode': 50480,\n",
       "  'Location': \"Mont' Kiara\",\n",
       "  'State': 'Kuala Lumpur',\n",
       "  'Amenities': 'NA',\n",
       "  'Features': ['Resort style condominium with indochine influences',\n",
       "   'Beautifully designed swimming pool with water cascade',\n",
       "   'Private lift',\n",
       "   'Indoor scenic spa hut',\n",
       "   'EV charger ready via power point',\n",
       "   'Automated waste collection system',\n",
       "   'Multi-generational playground',\n",
       "   'Express ramp to multi-level parking',\n",
       "   'Certified by GreenRE']},\n",
       " {'Project': 'The MINH',\n",
       "  'Website Project name': 'The Minh',\n",
       "  'FloorPlan': [{'Bedrooms': 3, 'Bathrooms': 4, 'Parking Lots': 4},\n",
       "   {'Type': 'Type D',\n",
       "    'Size': 3010,\n",
       "    'Min Price': 'NA',\n",
       "    'Max Price': 'NA',\n",
       "    'Min Built-Up': 1607,\n",
       "    'Max Built-Up': 3010,\n",
       "    'Tenure': 'Freehold',\n",
       "    'Property Type': 'Condominium',\n",
       "    'Region': 'Central',\n",
       "    'Postcode': 50480,\n",
       "    'Location': \"Mont' Kiara\",\n",
       "    'State': 'Kuala Lumpur',\n",
       "    'Amenities': 'NA',\n",
       "    'Features': ['Resort style condominium with indochine influences',\n",
       "     'Beautifully designed swimming pool with water cascade',\n",
       "     'Private lift',\n",
       "     'Indoor scenic spa hut',\n",
       "     'EV charger ready via power point',\n",
       "     'Automated waste collection system',\n",
       "     'Multi-generational playground',\n",
       "     'Express ramp to multi-level parking',\n",
       "     'Certified by GreenRE']}]},\n",
       " {'Project': 'The Connaught One',\n",
       "  'Website Project name': 'The Connaught One',\n",
       "  'FloorPlan': [{'Name': '1 Bedroom', 'Bathroom': 1, 'Parking Lots': []},\n",
       "   {'Name': '1 Bathroom', 'Bathroom': 1, 'Parking Lots': []}],\n",
       "  'Type': 'Type A',\n",
       "  'Size': 452,\n",
       "  'Min Price': 335888,\n",
       "  'Max Price': 805888,\n",
       "  'Min Built-Up': 452,\n",
       "  'Max Built-Up': 1270,\n",
       "  'Tenure': 'Freehold',\n",
       "  'Property Type': 'Condominium',\n",
       "  'Region': 'Central',\n",
       "  'Postcode': 56100,\n",
       "  'Location': 'Cheras',\n",
       "  'State': 'Kuala Lumpur',\n",
       "  'Amenities': [{'Name': 'Pasar Malam Taman Connaught', 'Distance': 1.5},\n",
       "   {'Name': 'Eko Cheras Mall', 'Distance': 2.7},\n",
       "   {'Name': 'Yuan Fong Kopitiam', 'Distance': 2.7},\n",
       "   {'Name': 'Alam Damai Recreational Park', 'Distance': 4.8}],\n",
       "  'Features': [{'Name': 'Right Next To MRT Station'},\n",
       "   {'Name': 'Signature Adaptive Home'},\n",
       "   {'Name': 'Unobstructed View'},\n",
       "   {'Name': 'Parcel Room'},\n",
       "   {'Name': 'Dedicated Urban Yard'},\n",
       "   {'Name': 'Home-Work Zone'}]},\n",
       " {'Project': 'The Connaught One',\n",
       "  'Website Project name': 'The Connaught One',\n",
       "  'FloorPlan': [{'Bedrooms': 2, 'Bathroom': 1, 'Parking Lots': []},\n",
       "   {'Bedrooms': 2, 'Bathroom': 1, 'Parking Lots': []}],\n",
       "  'Type': 'Type B',\n",
       "  'Size': 66,\n",
       "  'Min Price': 335888,\n",
       "  'Max Price': 805888,\n",
       "  'Min Built-Up': 452,\n",
       "  'Max Built-Up': 1270,\n",
       "  'Tenure': 'Freehold',\n",
       "  'Property Type': 'Condominium',\n",
       "  'Region': 'Central',\n",
       "  'Postcode': 56100,\n",
       "  'Location': 'Cheras',\n",
       "  'State': 'Kuala Lumpur',\n",
       "  'Amenities': ['Pasar Malam Taman Connaught',\n",
       "   'Eko Cheras Mall',\n",
       "   'Yuan Fong Kopitiam',\n",
       "   'Alam Damai Recreational Park'],\n",
       "  'Features': ['Right Next To MRT Station',\n",
       "   'Signature Adaptive Home',\n",
       "   'Unobstructed View',\n",
       "   'Parcel Room',\n",
       "   'Dedicated Urban Yard',\n",
       "   'Home-Work Zone']},\n",
       " {'Project': 'The Connaught One',\n",
       "  'Website Project name': 'The Connaught One',\n",
       "  'FloorPlan': [{'Bedrooms': 4, 'Bathrooms': 3, 'Parking Lots': []},\n",
       "   {'Bedrooms': 4, 'Bathrooms': 3, 'Parking Lots': []}],\n",
       "  'Type': 'Type E',\n",
       "  'Size': 118,\n",
       "  'Min Price': 335888,\n",
       "  'Max Price': 805888,\n",
       "  'Min Built-Up': 452,\n",
       "  'Max Built-Up': 1270,\n",
       "  'Tenure': 'Freehold',\n",
       "  'Property Type': 'Condominium',\n",
       "  'Region': 'Central',\n",
       "  'Postcode': 56100,\n",
       "  'Location': 'Cheras',\n",
       "  'State': 'Kuala Lumpur',\n",
       "  'Amenities': [{'Name': 'Pasar Malam Taman Connaught', 'Distance': 1.5},\n",
       "   {'Name': 'Eko Cheras Mall', 'Distance': 2.7},\n",
       "   {'Name': 'Yuan Fong Kopitiam', 'Distance': 2.7},\n",
       "   {'Name': 'Alam Damai Recreational Park', 'Distance': 4.8}],\n",
       "  'Features': [{'Name': 'Right Next To MRT Station'},\n",
       "   {'Name': 'Signature Adaptive Home'},\n",
       "   {'Name': 'Unobstructed View'},\n",
       "   {'Name': 'Parcel Room'},\n",
       "   {'Name': 'Dedicated Urban Yard'},\n",
       "   {'Name': 'Home-Work Zone'}]},\n",
       " {'Project': 'Residensi ZIG',\n",
       "  'Website Project name': 'Residensi ZIG',\n",
       "  'FloorPlan': [{'Name': 'Type A',\n",
       "    'Size': 450,\n",
       "    'Min Price': 340888,\n",
       "    'Max Price': 874888,\n",
       "    'Min Built-Up': 452,\n",
       "    'Max Built-Up': 1195,\n",
       "    'Tenure': 'Leasehold',\n",
       "    'Property Type': 'Apartment',\n",
       "    'Region': 'Central',\n",
       "    'Postcode': 52100,\n",
       "    'Location': 'Kepong',\n",
       "    'State': 'Kuala Lumpur',\n",
       "    'Amenities': [{'Name': 'Kepong Metropolitan Park', 'Distance': 0.4},\n",
       "     {'Name': 'SMK Jinjang', 'Distance': 1.1},\n",
       "     {'Name': 'MRT Kepong Baru Station', 'Distance': 2.4},\n",
       "     {'Name': 'AEON Big Kepong', 'Distance': 2.8},\n",
       "     {'Name': 'Selayang Hospital', 'Distance': 4.6},\n",
       "     {'Name': 'Batu Caves', 'Distance': 7.2},\n",
       "     {'Name': 'Mercure Hotel', 'Distance': 7.2}],\n",
       "    'Features': ['Move-in Ready ID Package',\n",
       "     'Bike-friendly Project',\n",
       "     'Adaptive And Compact Living',\n",
       "     'Multi-generation Interaction',\n",
       "     'Wellness Lifestyle']}]},\n",
       " {'Project': 'Residensi ZIG',\n",
       "  'Website Project name': 'Residensi ZIG',\n",
       "  'FloorPlan': {'Bedrooms': 3, 'Bathrooms': 2, 'Parking Lot': True},\n",
       "  'Type': 'Type C',\n",
       "  'Size': 998,\n",
       "  'Min Price': 340888,\n",
       "  'Max Price': 874888,\n",
       "  'Min Built-Up': 452,\n",
       "  'Max Built-Up': 1195,\n",
       "  'Tenure': 'Leasehold',\n",
       "  'Property Type': 'Apartment',\n",
       "  'Region': 'Central',\n",
       "  'Postcode': '52100',\n",
       "  'Location': 'Kepong',\n",
       "  'State': 'Kuala Lumpur',\n",
       "  'Amenities': ['Kepong Metropolitan Park 0.4KM',\n",
       "   'SMK Jinjang 1.1KM',\n",
       "   'MRT Kepong Baru Station 2.4KM',\n",
       "   'AEON Big Kepong 2.8KM',\n",
       "   'Selayang Hospital 4.6KM',\n",
       "   'Batu Caves 7.2Km',\n",
       "   'Mercure Hotel 7.2KM'],\n",
       "  'Features': ['Move-in Ready ID Package',\n",
       "   'Bike-friendly Project',\n",
       "   'Adaptive And Compact Living',\n",
       "   'Multi-generation Interaction',\n",
       "   'Wellness Lifestyle']},\n",
       " {'Project': 'Residensi ZIG',\n",
       "  'Website Project name': 'Residensi ZIG',\n",
       "  'FloorPlan': {'Bedrooms': 4, 'Bathrooms': 2, 'Parking Lot': True},\n",
       "  'Type': 'Type D',\n",
       "  'Size': 1135,\n",
       "  'Min Price': 340888,\n",
       "  'Max Price': 874888,\n",
       "  'Min Built-Up': 452,\n",
       "  'Max Built-Up': 1195,\n",
       "  'Tenure': 'Leasehold',\n",
       "  'Property Type': 'Apartment',\n",
       "  'Region': 'Central',\n",
       "  'Postcode': '52100',\n",
       "  'Location': 'Kepong',\n",
       "  'State': 'Kuala Lumpur',\n",
       "  'Amenities': ['Kepong Metropolitan Park 0.4KM',\n",
       "   'SMK Jinjang 1.1KM',\n",
       "   'MRT Kepong Baru Station 2.4KM',\n",
       "   'AEON Big Kepong 2.8KM',\n",
       "   'Selayang Hospital 4.6KM',\n",
       "   'Batu Caves 7.2Km',\n",
       "   'Mercure Hotel 7.2KM'],\n",
       "  'Features': ['Move-in Ready ID Package',\n",
       "   'Bike-friendly Project',\n",
       "   'Adaptive And Compact Living',\n",
       "   'Multi-generation Interaction',\n",
       "   'Wellness Lifestyle']},\n",
       " {'name': 'John', 'age': 30, 'city': 'New York'}]"
      ]
     },
     "execution_count": 33,
     "metadata": {},
     "output_type": "execute_result"
    }
   ],
   "source": [
    "json_outputs"
   ]
  },
  {
   "cell_type": "code",
   "execution_count": 65,
   "id": "67c4d638-d9cf-4e80-b037-b9ad65c1921e",
   "metadata": {},
   "outputs": [
    {
     "name": "stdout",
     "output_type": "stream",
     "text": [
      "{\n",
      "\"Project\": \"Residensi ZIG\",\n",
      "\"Website Project name\": \"Residensi ZIG\",\n",
      "\"FloorPlan\": {\n",
      "\"Bedrooms\": 4,\n",
      "\"Bathrooms\": 3,\n",
      "\"Parking Lots\": 3\n",
      "},\n",
      "{\n",
      "\"Type\": \"Type E\",\n",
      "\"Size\": 1198,\n",
      "\"Min Price\": 340888,\n",
      "\"Max Price\": 874888,\n",
      "\"Min Built-Up\": 452,\n",
      "\"Max Built-Up\": 1195,\n",
      "\"Tenure\": \"Leasehold\",\n",
      "\"Property Type\": \"Apartment\",\n",
      "\"Region\": \"Central\",\n",
      "\"Postcode\": 52100,\n",
      "\"Location\": \"Kepong\",\n",
      "\"State\": \"Kuala Lumpur\"\n",
      "},\n",
      "{\n",
      "\"Amenities\": [\n",
      "\"Kepong Metropolitan Park 0.4KM\",\n",
      "\"SMK Jinjang 1.1KM\",\n",
      "\"MRT Kepong Baru Station 2.4KM\",\n",
      "\"AEON Big Kepong 2.8KM\",\n",
      "\"Selayang Hospital 4.6KM\",\n",
      "\"Batu Caves 7.2Km\",\n",
      "\"Mercure Hotel 7.2KM\"\n",
      "]\n",
      "\"Features\": [\n",
      "\"Move-in Ready ID Package\",\n",
      "\"Bike-friendly Project\",\n",
      "\"Adaptive And Compact Living\",\n",
      "\"Multi-generation Interaction\",\n",
      "\"Wellness Lifestyle\"\n",
      "]\n",
      "}\n",
      "]\n",
      "}\n"
     ]
    }
   ],
   "source": [
    "print(test[14])"
   ]
  },
  {
   "cell_type": "code",
   "execution_count": null,
   "id": "c78fabfa-1ec3-4b67-9823-5b5996ea2f43",
   "metadata": {},
   "outputs": [],
   "source": []
  }
 ],
 "metadata": {
  "kernelspec": {
   "display_name": "Python 3 (ipykernel)",
   "language": "python",
   "name": "python3"
  },
  "language_info": {
   "codemirror_mode": {
    "name": "ipython",
    "version": 3
   },
   "file_extension": ".py",
   "mimetype": "text/x-python",
   "name": "python",
   "nbconvert_exporter": "python",
   "pygments_lexer": "ipython3",
   "version": "3.11.5"
  }
 },
 "nbformat": 4,
 "nbformat_minor": 5
}
