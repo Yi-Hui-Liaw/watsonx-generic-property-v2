{
 "cells": [
  {
   "cell_type": "code",
   "execution_count": 2,
   "metadata": {},
   "outputs": [
    {
     "name": "stdout",
     "output_type": "stream",
     "text": [
      "i am fine\n"
     ]
    }
   ],
   "source": [
    "import copy\n",
    "import importlib\n",
    "import os\n",
    "import pathlib\n",
    "import shutil\n",
    "\n",
    "import prompt\n",
    "import numpy as np\n",
    "import pandas as pd\n",
    "from dotenv import load_dotenv\n",
    "from ibm_watson_machine_learning.foundation_models import Model\n",
    "from ibm_watson_machine_learning.foundation_models.extensions.langchain import (\n",
    "    WatsonxLLM,\n",
    ")\n",
    "\n",
    "from ibm_watson_machine_learning.foundation_models.utils.enums import ModelTypes\n",
    "from ibm_watson_machine_learning.metanames import GenTextParamsMetaNames as GenParams\n",
    "\n",
    "\n",
    "load_dotenv()\n",
    "\n",
    "\n",
    "model = Model(\n",
    "    model_id=ModelTypes.FLAN_T5_XXL,\n",
    "    credentials={\n",
    "        \"apikey\": os.getenv(\"IBM_API_KEY\"),\n",
    "        \"url\": \"https://us-south.ml.cloud.ibm.com\",\n",
    "    },\n",
    "    params={\n",
    "        GenParams.DECODING_METHOD: \"greedy\",\n",
    "        GenParams.MAX_NEW_TOKENS: 100,\n",
    "        GenParams.TEMPERATURE: 0,\n",
    "        GenParams.RANDOM_SEED: 12345,\n",
    "    },\n",
    "    project_id=os.getenv(\"PROJECT_ID\"),\n",
    ")\n",
    "\n",
    "llm = WatsonxLLM(model=model)\n",
    "\n",
    "print(llm(\"hello how are you?\"))"
   ]
  },
  {
   "cell_type": "code",
   "execution_count": 3,
   "metadata": {},
   "outputs": [],
   "source": [
    "def build_prompt(question):\n",
    "    B_INST, E_INST = \"[INST]\", \"[/INST]\"\n",
    "    B_SYS, E_SYS = \"<<SYS>>\\n\", \"\\n<</SYS>>\\n\\n\"\n",
    "    BOS, EOS = \"<s>\", \"</s>\"\n",
    "    DEFAULT_SYSTEM_PROMPT = \"\"\"\n",
    "    You are an expert Q&A system that is trusted around the world. Always answer the query using the provided context information, and not prior knowledge.\n",
    "    Your answers should not include any harmful, unethical, racist, sexist, toxic, dangerous, or illegal content. \n",
    "    \"\"\"\n",
    "    prompt = \"\".join([B_SYS, DEFAULT_SYSTEM_PROMPT, E_SYS, question]).strip()\n",
    "    return f\"{BOS}{B_INST} {prompt} {E_INST}\"\n",
    "\n",
    "ROUTING_TEMPLATE = \"\"\"\n",
    "Classify the following question into one of these options. \n",
    "\n",
    "1) Property specific transactional query\n",
    "2) General transactional query\n",
    "3) Property specific general query\n",
    "4) General query\n",
    "\n",
    "Query: Still got available units for Residensi Zig?\n",
    "\n",
    "Answer: 1\n",
    "\n",
    "Query: what is a good house that is less then 900k?\n",
    "\n",
    "Answer: 2\n",
    "\n",
    "Query: any property in Mont Kiara?\n",
    "\n",
    "Answer: 3\n",
    "\n",
    "Query: what are the amenities in the minh?\n",
    "\n",
    "Answer: 3\n",
    "\n",
    "Question: {{question}} \n",
    "\n",
    "Answer:\n",
    "\"\"\""
   ]
  },
  {
   "cell_type": "code",
   "execution_count": 28,
   "metadata": {},
   "outputs": [
    {
     "name": "stdout",
     "output_type": "stream",
     "text": [
      "Accuracy: 0.33\n"
     ]
    },
    {
     "data": {
      "text/html": [
       "<div>\n",
       "<style scoped>\n",
       "    .dataframe tbody tr th:only-of-type {\n",
       "        vertical-align: middle;\n",
       "    }\n",
       "\n",
       "    .dataframe tbody tr th {\n",
       "        vertical-align: top;\n",
       "    }\n",
       "\n",
       "    .dataframe thead th {\n",
       "        text-align: right;\n",
       "    }\n",
       "</style>\n",
       "<table border=\"1\" class=\"dataframe\">\n",
       "  <thead>\n",
       "    <tr style=\"text-align: right;\">\n",
       "      <th></th>\n",
       "      <th>question</th>\n",
       "      <th>answer</th>\n",
       "      <th>generated_answer</th>\n",
       "    </tr>\n",
       "  </thead>\n",
       "  <tbody>\n",
       "    <tr>\n",
       "      <th>0</th>\n",
       "      <td>what are the layout types for Zig?</td>\n",
       "      <td>1</td>\n",
       "      <td>3</td>\n",
       "    </tr>\n",
       "    <tr>\n",
       "      <th>1</th>\n",
       "      <td>what are available units for the minh?</td>\n",
       "      <td>1</td>\n",
       "      <td>1</td>\n",
       "    </tr>\n",
       "    <tr>\n",
       "      <th>2</th>\n",
       "      <td>How many units that have the status Hold for c...</td>\n",
       "      <td>1</td>\n",
       "      <td>3</td>\n",
       "    </tr>\n",
       "  </tbody>\n",
       "</table>\n",
       "</div>"
      ],
      "text/plain": [
       "                                            question  answer  generated_answer\n",
       "0                 what are the layout types for Zig?       1                 3\n",
       "1             what are available units for the minh?       1                 1\n",
       "2  How many units that have the status Hold for c...       1                 3"
      ]
     },
     "execution_count": 28,
     "metadata": {},
     "output_type": "execute_result"
    }
   ],
   "source": [
    "questions = [\n",
    "    {\"question\": \"what are the layout types for Zig?\", \"answer\": 1},\n",
    "    {\"question\": \"what are available units for the minh?\", \"answer\": 1},\n",
    "    {\"question\": \"How many units that have the status Hold for connaught\", \"answer\": 1},\n",
    "]\n",
    "\n",
    "generated_answers = [\n",
    "    llm(ROUTING_TEMPLATE.replace(\"{{question}}\", x[\"question\"])) for x in questions\n",
    "]\n",
    "\n",
    "df = pd.DataFrame(questions)\n",
    "df[\"generated_answer\"] = generated_answers\n",
    "df[\"generated_answer\"] = df[\"generated_answer\"].astype(int)\n",
    "print(\"Accuracy: {:.2f}\".format((df[\"answer\"] == df[\"generated_answer\"]).sum() / df.shape[0]))\n",
    "df"
   ]
  }
 ],
 "metadata": {
  "kernelspec": {
   "display_name": "Python 3 (ipykernel)",
   "language": "python",
   "name": "python3"
  },
  "language_info": {
   "codemirror_mode": {
    "name": "ipython",
    "version": 3
   },
   "file_extension": ".py",
   "mimetype": "text/x-python",
   "name": "python",
   "nbconvert_exporter": "python",
   "pygments_lexer": "ipython3",
   "version": "3.11.4"
  }
 },
 "nbformat": 4,
 "nbformat_minor": 4
}
